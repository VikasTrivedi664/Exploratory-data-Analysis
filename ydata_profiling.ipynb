{
 "cells": [
  {
   "cell_type": "markdown",
   "metadata": {},
   "source": [
    "# Automatic EDA  using ydata_profiling"
   ]
  },
  {
   "cell_type": "code",
   "execution_count": 4,
   "metadata": {},
   "outputs": [],
   "source": [
    "# import libraries\n",
    "import pandas as pd\n",
    "import seaborn as sns\n",
    "import ydata_profiling as yd "
   ]
  },
  {
   "cell_type": "code",
   "execution_count": 5,
   "metadata": {},
   "outputs": [
    {
     "name": "stdout",
     "output_type": "stream",
     "text": [
      "Requirement already satisfied: ydata-profiling in c:\\users\\vikas\\appdata\\local\\programs\\python\\python310\\lib\\site-packages (4.6.0)\n",
      "Requirement already satisfied: tqdm<5,>=4.48.2 in c:\\users\\vikas\\appdata\\local\\programs\\python\\python310\\lib\\site-packages (from ydata-profiling) (4.66.1)\n",
      "Requirement already satisfied: dacite>=1.8 in c:\\users\\vikas\\appdata\\local\\programs\\python\\python310\\lib\\site-packages (from ydata-profiling) (1.8.1)\n",
      "Requirement already satisfied: imagehash==4.3.1 in c:\\users\\vikas\\appdata\\local\\programs\\python\\python310\\lib\\site-packages (from ydata-profiling) (4.3.1)\n",
      "Requirement already satisfied: numpy<1.26,>=1.16.0 in c:\\users\\vikas\\appdata\\local\\programs\\python\\python310\\lib\\site-packages (from ydata-profiling) (1.25.2)\n",
      "Requirement already satisfied: jinja2<3.2,>=2.11.1 in c:\\users\\vikas\\appdata\\local\\programs\\python\\python310\\lib\\site-packages (from ydata-profiling) (3.1.2)\n",
      "Requirement already satisfied: requests<3,>=2.24.0 in c:\\users\\vikas\\appdata\\local\\programs\\python\\python310\\lib\\site-packages (from ydata-profiling) (2.31.0)\n",
      "Requirement already satisfied: visions[type_image_path]==0.7.5 in c:\\users\\vikas\\appdata\\local\\programs\\python\\python310\\lib\\site-packages (from ydata-profiling) (0.7.5)\n",
      "Requirement already satisfied: phik<0.13,>=0.11.1 in c:\\users\\vikas\\appdata\\local\\programs\\python\\python310\\lib\\site-packages (from ydata-profiling) (0.12.3)\n",
      "Requirement already satisfied: multimethod<2,>=1.4 in c:\\users\\vikas\\appdata\\local\\programs\\python\\python310\\lib\\site-packages (from ydata-profiling) (1.10)\n",
      "Requirement already satisfied: wordcloud>=1.9.1 in c:\\users\\vikas\\appdata\\local\\programs\\python\\python310\\lib\\site-packages (from ydata-profiling) (1.9.2)\n",
      "Requirement already satisfied: PyYAML<6.1,>=5.0.0 in c:\\users\\vikas\\appdata\\local\\programs\\python\\python310\\lib\\site-packages (from ydata-profiling) (6.0.1)\n",
      "Requirement already satisfied: numba<0.59.0,>=0.56.0 in c:\\users\\vikas\\appdata\\local\\programs\\python\\python310\\lib\\site-packages (from ydata-profiling) (0.58.1)\n",
      "Requirement already satisfied: pandas!=1.4.0,<2.1,>1.1 in c:\\users\\vikas\\appdata\\local\\programs\\python\\python310\\lib\\site-packages (from ydata-profiling) (2.0.3)\n",
      "Requirement already satisfied: typeguard<5,>=4.1.2 in c:\\users\\vikas\\appdata\\local\\programs\\python\\python310\\lib\\site-packages (from ydata-profiling) (4.1.4)\n",
      "Requirement already satisfied: seaborn<0.13,>=0.10.1 in c:\\users\\vikas\\appdata\\local\\programs\\python\\python310\\lib\\site-packages (from ydata-profiling) (0.12.2)\n",
      "Requirement already satisfied: pydantic<2,>=1.8.1 in c:\\users\\vikas\\appdata\\local\\programs\\python\\python310\\lib\\site-packages (from ydata-profiling) (1.10.13)\n",
      "Requirement already satisfied: scipy<1.12,>=1.4.1 in c:\\users\\vikas\\appdata\\local\\programs\\python\\python310\\lib\\site-packages (from ydata-profiling) (1.11.3)\n",
      "Requirement already satisfied: matplotlib<=3.7.3,>=3.2 in c:\\users\\vikas\\appdata\\local\\programs\\python\\python310\\lib\\site-packages (from ydata-profiling) (3.7.3)\n",
      "Requirement already satisfied: statsmodels<1,>=0.13.2 in c:\\users\\vikas\\appdata\\local\\programs\\python\\python310\\lib\\site-packages (from ydata-profiling) (0.14.0)\n",
      "Requirement already satisfied: htmlmin==0.1.12 in c:\\users\\vikas\\appdata\\local\\programs\\python\\python310\\lib\\site-packages (from ydata-profiling) (0.1.12)\n",
      "Requirement already satisfied: pillow in c:\\users\\vikas\\appdata\\local\\programs\\python\\python310\\lib\\site-packages (from imagehash==4.3.1->ydata-profiling) (10.1.0)\n",
      "Requirement already satisfied: PyWavelets in c:\\users\\vikas\\appdata\\local\\programs\\python\\python310\\lib\\site-packages (from imagehash==4.3.1->ydata-profiling) (1.4.1)\n",
      "Requirement already satisfied: tangled-up-in-unicode>=0.0.4 in c:\\users\\vikas\\appdata\\local\\programs\\python\\python310\\lib\\site-packages (from visions[type_image_path]==0.7.5->ydata-profiling) (0.2.0)\n",
      "Requirement already satisfied: attrs>=19.3.0 in c:\\users\\vikas\\appdata\\local\\programs\\python\\python310\\lib\\site-packages (from visions[type_image_path]==0.7.5->ydata-profiling) (23.1.0)\n",
      "Requirement already satisfied: networkx>=2.4 in c:\\users\\vikas\\appdata\\local\\programs\\python\\python310\\lib\\site-packages (from visions[type_image_path]==0.7.5->ydata-profiling) (3.2)\n",
      "Requirement already satisfied: MarkupSafe>=2.0 in c:\\users\\vikas\\appdata\\local\\programs\\python\\python310\\lib\\site-packages (from jinja2<3.2,>=2.11.1->ydata-profiling) (2.1.3)\n",
      "Requirement already satisfied: pyparsing>=2.3.1 in c:\\users\\vikas\\appdata\\local\\programs\\python\\python310\\lib\\site-packages (from matplotlib<=3.7.3,>=3.2->ydata-profiling) (3.1.1)\n",
      "Requirement already satisfied: cycler>=0.10 in c:\\users\\vikas\\appdata\\local\\programs\\python\\python310\\lib\\site-packages (from matplotlib<=3.7.3,>=3.2->ydata-profiling) (0.12.1)\n",
      "Requirement already satisfied: packaging>=20.0 in c:\\users\\vikas\\appdata\\roaming\\python\\python310\\site-packages (from matplotlib<=3.7.3,>=3.2->ydata-profiling) (23.2)\n",
      "Requirement already satisfied: contourpy>=1.0.1 in c:\\users\\vikas\\appdata\\local\\programs\\python\\python310\\lib\\site-packages (from matplotlib<=3.7.3,>=3.2->ydata-profiling) (1.1.1)\n",
      "Requirement already satisfied: kiwisolver>=1.0.1 in c:\\users\\vikas\\appdata\\local\\programs\\python\\python310\\lib\\site-packages (from matplotlib<=3.7.3,>=3.2->ydata-profiling) (1.4.5)\n",
      "Requirement already satisfied: fonttools>=4.22.0 in c:\\users\\vikas\\appdata\\local\\programs\\python\\python310\\lib\\site-packages (from matplotlib<=3.7.3,>=3.2->ydata-profiling) (4.43.1)\n",
      "Requirement already satisfied: python-dateutil>=2.7 in c:\\users\\vikas\\appdata\\roaming\\python\\python310\\site-packages (from matplotlib<=3.7.3,>=3.2->ydata-profiling) (2.8.2)\n",
      "Requirement already satisfied: llvmlite<0.42,>=0.41.0dev0 in c:\\users\\vikas\\appdata\\local\\programs\\python\\python310\\lib\\site-packages (from numba<0.59.0,>=0.56.0->ydata-profiling) (0.41.1)\n",
      "Requirement already satisfied: pytz>=2020.1 in c:\\users\\vikas\\appdata\\local\\programs\\python\\python310\\lib\\site-packages (from pandas!=1.4.0,<2.1,>1.1->ydata-profiling) (2023.3.post1)\n",
      "Requirement already satisfied: tzdata>=2022.1 in c:\\users\\vikas\\appdata\\local\\programs\\python\\python310\\lib\\site-packages (from pandas!=1.4.0,<2.1,>1.1->ydata-profiling) (2023.3)\n",
      "Requirement already satisfied: joblib>=0.14.1 in c:\\users\\vikas\\appdata\\local\\programs\\python\\python310\\lib\\site-packages (from phik<0.13,>=0.11.1->ydata-profiling) (1.3.2)\n",
      "Requirement already satisfied: typing-extensions>=4.2.0 in c:\\users\\vikas\\appdata\\local\\programs\\python\\python310\\lib\\site-packages (from pydantic<2,>=1.8.1->ydata-profiling) (4.8.0)\n",
      "Requirement already satisfied: six>=1.5 in c:\\users\\vikas\\appdata\\roaming\\python\\python310\\site-packages (from python-dateutil>=2.7->matplotlib<=3.7.3,>=3.2->ydata-profiling) (1.16.0)\n",
      "Requirement already satisfied: charset-normalizer<4,>=2 in c:\\users\\vikas\\appdata\\local\\programs\\python\\python310\\lib\\site-packages (from requests<3,>=2.24.0->ydata-profiling) (3.3.0)\n",
      "Requirement already satisfied: urllib3<3,>=1.21.1 in c:\\users\\vikas\\appdata\\local\\programs\\python\\python310\\lib\\site-packages (from requests<3,>=2.24.0->ydata-profiling) (2.0.7)\n",
      "Requirement already satisfied: idna<4,>=2.5 in c:\\users\\vikas\\appdata\\local\\programs\\python\\python310\\lib\\site-packages (from requests<3,>=2.24.0->ydata-profiling) (3.4)\n",
      "Requirement already satisfied: certifi>=2017.4.17 in c:\\users\\vikas\\appdata\\local\\programs\\python\\python310\\lib\\site-packages (from requests<3,>=2.24.0->ydata-profiling) (2023.7.22)\n",
      "Requirement already satisfied: patsy>=0.5.2 in c:\\users\\vikas\\appdata\\local\\programs\\python\\python310\\lib\\site-packages (from statsmodels<1,>=0.13.2->ydata-profiling) (0.5.3)\n",
      "Requirement already satisfied: colorama in c:\\users\\vikas\\appdata\\roaming\\python\\python310\\site-packages (from tqdm<5,>=4.48.2->ydata-profiling) (0.4.6)\n",
      "Note: you may need to restart the kernel to use updated packages.\n"
     ]
    },
    {
     "name": "stderr",
     "output_type": "stream",
     "text": [
      "WARNING: You are using pip version 21.2.3; however, version 23.3 is available.\n",
      "You should consider upgrading via the 'c:\\Users\\Vikas\\AppData\\Local\\Programs\\Python\\Python310\\python.exe -m pip install --upgrade pip' command.\n"
     ]
    }
   ],
   "source": [
    "pip install ydata-profiling"
   ]
  },
  {
   "cell_type": "code",
   "execution_count": 6,
   "metadata": {},
   "outputs": [],
   "source": [
    "# import data from seaborn\n",
    "df = sns.load_dataset('titanic')"
   ]
  },
  {
   "cell_type": "code",
   "execution_count": 7,
   "metadata": {},
   "outputs": [
    {
     "data": {
      "application/vnd.jupyter.widget-view+json": {
       "model_id": "90c4a50d9de34a4392239b76e08ec77f",
       "version_major": 2,
       "version_minor": 0
      },
      "text/plain": [
       "Summarize dataset:   0%|          | 0/5 [00:00<?, ?it/s]"
      ]
     },
     "metadata": {},
     "output_type": "display_data"
    },
    {
     "data": {
      "application/vnd.jupyter.widget-view+json": {
       "model_id": "a98a4726c63c464e85b243ea78885b68",
       "version_major": 2,
       "version_minor": 0
      },
      "text/plain": [
       "Generate report structure:   0%|          | 0/1 [00:00<?, ?it/s]"
      ]
     },
     "metadata": {},
     "output_type": "display_data"
    },
    {
     "data": {
      "application/vnd.jupyter.widget-view+json": {
       "model_id": "c2cd5436a0d740eb965463f195b25140",
       "version_major": 2,
       "version_minor": 0
      },
      "text/plain": [
       "Render HTML:   0%|          | 0/1 [00:00<?, ?it/s]"
      ]
     },
     "metadata": {},
     "output_type": "display_data"
    },
    {
     "data": {
      "application/vnd.jupyter.widget-view+json": {
       "model_id": "c18b062a3c4e4dd880a7ed4392979e16",
       "version_major": 2,
       "version_minor": 0
      },
      "text/plain": [
       "Export report to file:   0%|          | 0/1 [00:00<?, ?it/s]"
      ]
     },
     "metadata": {},
     "output_type": "display_data"
    }
   ],
   "source": [
    "# ydata_profile report\n",
    "profile = yd.ProfileReport(df)\n",
    "profile.to_file(output_file='./Ram/ydata_titanic.html')"
   ]
  },
  {
   "cell_type": "markdown",
   "metadata": {},
   "source": [
    "# Do it on Pak Population dataset"
   ]
  },
  {
   "cell_type": "code",
   "execution_count": 8,
   "metadata": {},
   "outputs": [],
   "source": [
    "df_pak = pd.read_csv('./Ram/data.csv')"
   ]
  },
  {
   "cell_type": "code",
   "execution_count": 9,
   "metadata": {},
   "outputs": [
    {
     "data": {
      "application/vnd.jupyter.widget-view+json": {
       "model_id": "a7904e918f304494ac754bd727466a58",
       "version_major": 2,
       "version_minor": 0
      },
      "text/plain": [
       "Summarize dataset:   0%|          | 0/5 [00:00<?, ?it/s]"
      ]
     },
     "metadata": {},
     "output_type": "display_data"
    },
    {
     "data": {
      "application/vnd.jupyter.widget-view+json": {
       "model_id": "3ccdf14e31fb4faea22230634a886954",
       "version_major": 2,
       "version_minor": 0
      },
      "text/plain": [
       "Generate report structure:   0%|          | 0/1 [00:00<?, ?it/s]"
      ]
     },
     "metadata": {},
     "output_type": "display_data"
    },
    {
     "data": {
      "application/vnd.jupyter.widget-view+json": {
       "model_id": "ebe59ec09fde4559b3c448e1f5dd9a2a",
       "version_major": 2,
       "version_minor": 0
      },
      "text/plain": [
       "Render HTML:   0%|          | 0/1 [00:00<?, ?it/s]"
      ]
     },
     "metadata": {},
     "output_type": "display_data"
    },
    {
     "data": {
      "application/vnd.jupyter.widget-view+json": {
       "model_id": "08127cbb44e74c079889da780d3e61e6",
       "version_major": 2,
       "version_minor": 0
      },
      "text/plain": [
       "Export report to file:   0%|          | 0/1 [00:00<?, ?it/s]"
      ]
     },
     "metadata": {},
     "output_type": "display_data"
    }
   ],
   "source": [
    "# ydata_profile report\n",
    "profile = yd.ProfileReport(df)\n",
    "profile.to_file(output_file='./Ram/ydata_pak_population.html')"
   ]
  },
  {
   "cell_type": "code",
   "execution_count": 10,
   "metadata": {},
   "outputs": [],
   "source": [
    "df = pd.read_csv('./Ram/data.csv')"
   ]
  },
  {
   "cell_type": "code",
   "execution_count": 11,
   "metadata": {},
   "outputs": [
    {
     "data": {
      "application/vnd.jupyter.widget-view+json": {
       "model_id": "16b7960ac1ba4feab57b9794f9c89de0",
       "version_major": 2,
       "version_minor": 0
      },
      "text/plain": [
       "Summarize dataset:   0%|          | 0/5 [00:00<?, ?it/s]"
      ]
     },
     "metadata": {},
     "output_type": "display_data"
    },
    {
     "data": {
      "application/vnd.jupyter.widget-view+json": {
       "model_id": "f143b06ab14d4e88b5d397d36ecf6d74",
       "version_major": 2,
       "version_minor": 0
      },
      "text/plain": [
       "Generate report structure:   0%|          | 0/1 [00:00<?, ?it/s]"
      ]
     },
     "metadata": {},
     "output_type": "display_data"
    },
    {
     "data": {
      "application/vnd.jupyter.widget-view+json": {
       "model_id": "9a496431d4804b0289a2c847f1c3f8f0",
       "version_major": 2,
       "version_minor": 0
      },
      "text/plain": [
       "Render HTML:   0%|          | 0/1 [00:00<?, ?it/s]"
      ]
     },
     "metadata": {},
     "output_type": "display_data"
    },
    {
     "data": {
      "application/vnd.jupyter.widget-view+json": {
       "model_id": "fc7e1477627d4bedbb414e892c01a0df",
       "version_major": 2,
       "version_minor": 0
      },
      "text/plain": [
       "Export report to file:   0%|          | 0/1 [00:00<?, ?it/s]"
      ]
     },
     "metadata": {},
     "output_type": "display_data"
    }
   ],
   "source": [
    "profile = yd.ProfileReport(df)\n",
    "profile.to_file(output_file='data.html')\n"
   ]
  },
  {
   "cell_type": "code",
   "execution_count": 12,
   "metadata": {},
   "outputs": [
    {
     "name": "stdout",
     "output_type": "stream",
     "text": [
      "Requirement already satisfied: openpyxl in c:\\users\\vikas\\appdata\\local\\programs\\python\\python310\\lib\\site-packages (3.1.2)\n",
      "Requirement already satisfied: et-xmlfile in c:\\users\\vikas\\appdata\\local\\programs\\python\\python310\\lib\\site-packages (from openpyxl) (1.1.0)\n",
      "Note: you may need to restart the kernel to use updated packages.\n"
     ]
    },
    {
     "name": "stderr",
     "output_type": "stream",
     "text": [
      "WARNING: You are using pip version 21.2.3; however, version 23.3 is available.\n",
      "You should consider upgrading via the 'c:\\Users\\Vikas\\AppData\\Local\\Programs\\Python\\Python310\\python.exe -m pip install --upgrade pip' command.\n"
     ]
    }
   ],
   "source": [
    "pip install openpyxl"
   ]
  }
 ],
 "metadata": {
  "kernelspec": {
   "display_name": "Python 3",
   "language": "python",
   "name": "python3"
  },
  "language_info": {
   "codemirror_mode": {
    "name": "ipython",
    "version": 3
   },
   "file_extension": ".py",
   "mimetype": "text/x-python",
   "name": "python",
   "nbconvert_exporter": "python",
   "pygments_lexer": "ipython3",
   "version": "3.10.0"
  },
  "orig_nbformat": 4
 },
 "nbformat": 4,
 "nbformat_minor": 2
}
